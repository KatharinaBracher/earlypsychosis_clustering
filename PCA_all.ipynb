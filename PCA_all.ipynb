{
 "cells": [
  {
   "cell_type": "code",
   "execution_count": 1,
   "id": "9bc56abf-5a13-4428-afc2-9fa5c8828958",
   "metadata": {},
   "outputs": [],
   "source": [
    "import numpy as np\n",
    "import pandas as pd\n",
    "import seaborn as sns\n",
    "import matplotlib.pyplot as plt\n",
    "from sklearn.decomposition import PCA\n",
    "import scipy as sci\n",
    "import matplotlib\n",
    "import scikit_posthocs as sci_posthocs\n",
    "\n",
    "import analysis as ana\n",
    "import plot as pl"
   ]
  },
  {
   "cell_type": "code",
   "execution_count": 2,
   "id": "81ff534a-5d4b-4808-83bf-2cd31294ab32",
   "metadata": {},
   "outputs": [],
   "source": [
    "%load_ext autoreload\n",
    "%autoreload 2"
   ]
  },
  {
   "cell_type": "code",
   "execution_count": 3,
   "id": "7f57f7ca-cdd6-4955-b0f1-4529d685b65d",
   "metadata": {},
   "outputs": [],
   "source": [
    "pd.options.display.max_rows = 999\n",
    "pd.options.display.max_columns = 999\n",
    "pd.set_option('display.max_colwidth', None)"
   ]
  },
  {
   "cell_type": "code",
   "execution_count": 58,
   "id": "f6c2adfc-fccc-47db-bddb-231843dd59a8",
   "metadata": {},
   "outputs": [],
   "source": [
    "import matplotlib as mpl\n",
    "from matplotlib import rc\n",
    "\n",
    "rc('text', usetex=False)\n",
    "font = {'family':'CMU Serif', \n",
    "               #'sans-serif':['Helvetica'],\n",
    "               'size': 11}\n",
    "mpl.rc('font', **font)"
   ]
  },
  {
   "cell_type": "markdown",
   "id": "b124a141-11a5-473d-a3be-be0f0f130b92",
   "metadata": {},
   "source": [
    "# Loading Data"
   ]
  },
  {
   "cell_type": "code",
   "execution_count": 5,
   "id": "20a32f09-8cb9-4a12-b193-36dbd57fb63a",
   "metadata": {},
   "outputs": [],
   "source": [
    "# brain_data, cog_data, subj_data = ana.load_data('../data')\n",
    "brain_data_z, cog_data_z, subj_data = ana.load_data('../data_zscore')\n",
    "# brain_data_q, cog_data_q, subj_data = ana.load_data('../data_quant')"
   ]
  },
  {
   "cell_type": "code",
   "execution_count": 62,
   "id": "49a3beb3-8c0b-4d17-82f3-ecb270d8509a",
   "metadata": {},
   "outputs": [
    {
     "data": {
      "text/html": [
       "<div>\n",
       "<style scoped>\n",
       "    .dataframe tbody tr th:only-of-type {\n",
       "        vertical-align: middle;\n",
       "    }\n",
       "\n",
       "    .dataframe tbody tr th {\n",
       "        vertical-align: top;\n",
       "    }\n",
       "\n",
       "    .dataframe thead th {\n",
       "        text-align: right;\n",
       "    }\n",
       "</style>\n",
       "<table border=\"1\" class=\"dataframe\">\n",
       "  <thead>\n",
       "    <tr style=\"text-align: right;\">\n",
       "      <th></th>\n",
       "      <th>sex</th>\n",
       "      <th>interview_age</th>\n",
       "      <th>sestot</th>\n",
       "      <th>mot_edscale</th>\n",
       "      <th>acpt01_auditory_t1</th>\n",
       "      <th>acpt01_auditory_t3</th>\n",
       "      <th>acpt01_auditory_t4</th>\n",
       "      <th>acpt01_auditory_t5</th>\n",
       "      <th>acpt01_auditory_t6</th>\n",
       "      <th>acpt01_auditory_t8</th>\n",
       "      <th>acpt01_auditory_t9</th>\n",
       "      <th>acpt01_auditory_t10</th>\n",
       "      <th>acpt01_auditory_t11</th>\n",
       "      <th>acpt01_auditory_t13</th>\n",
       "      <th>acpt01_auditory_t14</th>\n",
       "      <th>acpt01_auditory_t15</th>\n",
       "      <th>cogcomp01_nih_fluidcogcomp_unadjusted</th>\n",
       "      <th>cogcomp01_nih_crycogcomp_unadjusted</th>\n",
       "      <th>dccs01_nih_dccs_ageadjusted</th>\n",
       "      <th>deldisk01_sv_6mo_40000</th>\n",
       "      <th>deldisk01_sv_3yr_40000</th>\n",
       "      <th>deldisk01_sv_1mo_40000</th>\n",
       "      <th>deldisk01_sv_5yr_40000</th>\n",
       "      <th>deldisk01_sv_10yr_40000</th>\n",
       "      <th>deldisk01_sv_1yr_40000</th>\n",
       "      <th>deldisk01_auc_200</th>\n",
       "      <th>deldisk01_auc_40000</th>\n",
       "      <th>er4001_er40_c_cr</th>\n",
       "      <th>er4001_er40_c_rtcr</th>\n",
       "      <th>er4001_er40_c_ang</th>\n",
       "      <th>er4001_er40_c_fear</th>\n",
       "      <th>er4001_er40_c_hap</th>\n",
       "      <th>er4001_er40_c_noe</th>\n",
       "      <th>er4001_er40_c_sad</th>\n",
       "      <th>er4001_er40_c_fpa</th>\n",
       "      <th>er4001_er40_c_fpf</th>\n",
       "      <th>er4001_er40_c_fph</th>\n",
       "      <th>er4001_er40_c_fpn</th>\n",
       "      <th>er4001_er40_c_fps</th>\n",
       "      <th>flanker01_nih_flanker_ageadjusted</th>\n",
       "      <th>lswmt01_tbx_ls</th>\n",
       "      <th>orrt01_read_acss</th>\n",
       "      <th>pcps01_nih_patterncomp_ageadjusted</th>\n",
       "      <th>tpvt01_tpvt_acss</th>\n",
       "      <th>wasi201_vocab_totalrawscore</th>\n",
       "      <th>wasi201_matrix_totalrawscore</th>\n",
       "      <th>wasi201_iqscores_full2iq</th>\n",
       "    </tr>\n",
       "  </thead>\n",
       "  <tbody>\n",
       "    <tr>\n",
       "      <th>1010</th>\n",
       "      <td>0</td>\n",
       "      <td>0.677291</td>\n",
       "      <td>0.0</td>\n",
       "      <td>0.666667</td>\n",
       "      <td>0.719724</td>\n",
       "      <td>-0.466422</td>\n",
       "      <td>0.747283</td>\n",
       "      <td>-0.379579</td>\n",
       "      <td>0.513235</td>\n",
       "      <td>-0.294886</td>\n",
       "      <td>0.527506</td>\n",
       "      <td>0.428788</td>\n",
       "      <td>1.280175</td>\n",
       "      <td>-0.481063</td>\n",
       "      <td>1.263284</td>\n",
       "      <td>-0.459052</td>\n",
       "      <td>1.985641</td>\n",
       "      <td>0.680216</td>\n",
       "      <td>2.225363</td>\n",
       "      <td>0.787117</td>\n",
       "      <td>1.218434</td>\n",
       "      <td>0.639119</td>\n",
       "      <td>1.241682</td>\n",
       "      <td>1.247383</td>\n",
       "      <td>1.109067</td>\n",
       "      <td>-0.097624</td>\n",
       "      <td>1.355674</td>\n",
       "      <td>-0.160525</td>\n",
       "      <td>-0.455035</td>\n",
       "      <td>-0.434196</td>\n",
       "      <td>0.089844</td>\n",
       "      <td>0.372565</td>\n",
       "      <td>-0.028823</td>\n",
       "      <td>-0.130845</td>\n",
       "      <td>1.018440</td>\n",
       "      <td>-0.100460</td>\n",
       "      <td>0.498143</td>\n",
       "      <td>-0.088523</td>\n",
       "      <td>-0.796775</td>\n",
       "      <td>1.839759</td>\n",
       "      <td>1.537035</td>\n",
       "      <td>0.709581</td>\n",
       "      <td>1.185320</td>\n",
       "      <td>0.299544</td>\n",
       "      <td>0.438681</td>\n",
       "      <td>1.108016</td>\n",
       "      <td>0.993161</td>\n",
       "    </tr>\n",
       "    <tr>\n",
       "      <th>3001</th>\n",
       "      <td>0</td>\n",
       "      <td>0.633513</td>\n",
       "      <td>0.0</td>\n",
       "      <td>1.000000</td>\n",
       "      <td>0.462680</td>\n",
       "      <td>-0.466422</td>\n",
       "      <td>0.503197</td>\n",
       "      <td>-0.356620</td>\n",
       "      <td>0.513235</td>\n",
       "      <td>-0.294886</td>\n",
       "      <td>0.527506</td>\n",
       "      <td>-0.596201</td>\n",
       "      <td>1.280175</td>\n",
       "      <td>-0.358424</td>\n",
       "      <td>1.263284</td>\n",
       "      <td>-0.450115</td>\n",
       "      <td>0.328610</td>\n",
       "      <td>0.779121</td>\n",
       "      <td>0.190070</td>\n",
       "      <td>0.787117</td>\n",
       "      <td>1.393707</td>\n",
       "      <td>0.639119</td>\n",
       "      <td>1.591451</td>\n",
       "      <td>1.517041</td>\n",
       "      <td>1.109067</td>\n",
       "      <td>2.736771</td>\n",
       "      <td>1.614511</td>\n",
       "      <td>1.356636</td>\n",
       "      <td>-0.693871</td>\n",
       "      <td>1.207277</td>\n",
       "      <td>0.822784</td>\n",
       "      <td>0.372565</td>\n",
       "      <td>0.715771</td>\n",
       "      <td>0.502934</td>\n",
       "      <td>-0.643226</td>\n",
       "      <td>-0.723308</td>\n",
       "      <td>-0.379268</td>\n",
       "      <td>-0.545889</td>\n",
       "      <td>-0.796775</td>\n",
       "      <td>0.810291</td>\n",
       "      <td>-0.158626</td>\n",
       "      <td>0.998888</td>\n",
       "      <td>1.185320</td>\n",
       "      <td>0.299544</td>\n",
       "      <td>0.294623</td>\n",
       "      <td>1.108016</td>\n",
       "      <td>0.685650</td>\n",
       "    </tr>\n",
       "    <tr>\n",
       "      <th>3002</th>\n",
       "      <td>0</td>\n",
       "      <td>3.260203</td>\n",
       "      <td>0.0</td>\n",
       "      <td>1.000000</td>\n",
       "      <td>-0.308453</td>\n",
       "      <td>-0.466422</td>\n",
       "      <td>-0.290082</td>\n",
       "      <td>-0.149987</td>\n",
       "      <td>0.078528</td>\n",
       "      <td>-0.003757</td>\n",
       "      <td>0.062060</td>\n",
       "      <td>-0.069337</td>\n",
       "      <td>-0.652074</td>\n",
       "      <td>-0.358424</td>\n",
       "      <td>-0.586394</td>\n",
       "      <td>-0.083716</td>\n",
       "      <td>0.190524</td>\n",
       "      <td>1.372555</td>\n",
       "      <td>-0.471400</td>\n",
       "      <td>0.787117</td>\n",
       "      <td>-1.323033</td>\n",
       "      <td>0.639119</td>\n",
       "      <td>-1.119263</td>\n",
       "      <td>-0.909877</td>\n",
       "      <td>1.109067</td>\n",
       "      <td>-0.406130</td>\n",
       "      <td>-0.801296</td>\n",
       "      <td>0.749771</td>\n",
       "      <td>-0.589950</td>\n",
       "      <td>-0.434196</td>\n",
       "      <td>0.822784</td>\n",
       "      <td>0.372565</td>\n",
       "      <td>0.715771</td>\n",
       "      <td>0.502934</td>\n",
       "      <td>-0.643226</td>\n",
       "      <td>0.522389</td>\n",
       "      <td>-0.379268</td>\n",
       "      <td>-0.545889</td>\n",
       "      <td>-0.796775</td>\n",
       "      <td>0.749734</td>\n",
       "      <td>0.123984</td>\n",
       "      <td>0.902453</td>\n",
       "      <td>0.638630</td>\n",
       "      <td>0.989089</td>\n",
       "      <td>0.870856</td>\n",
       "      <td>0.179678</td>\n",
       "      <td>0.439642</td>\n",
       "    </tr>\n",
       "    <tr>\n",
       "      <th>3026</th>\n",
       "      <td>1</td>\n",
       "      <td>2.866199</td>\n",
       "      <td>0.0</td>\n",
       "      <td>0.666667</td>\n",
       "      <td>0.462680</td>\n",
       "      <td>-0.466422</td>\n",
       "      <td>0.442176</td>\n",
       "      <td>-0.777539</td>\n",
       "      <td>0.513235</td>\n",
       "      <td>-0.294886</td>\n",
       "      <td>0.527506</td>\n",
       "      <td>-0.471670</td>\n",
       "      <td>-0.057536</td>\n",
       "      <td>-0.358424</td>\n",
       "      <td>-0.021215</td>\n",
       "      <td>-0.208828</td>\n",
       "      <td>0.604782</td>\n",
       "      <td>-0.012124</td>\n",
       "      <td>0.088305</td>\n",
       "      <td>0.787117</td>\n",
       "      <td>-1.323033</td>\n",
       "      <td>0.639119</td>\n",
       "      <td>-1.119263</td>\n",
       "      <td>-0.909877</td>\n",
       "      <td>-1.576955</td>\n",
       "      <td>-0.816400</td>\n",
       "      <td>-1.194626</td>\n",
       "      <td>1.053204</td>\n",
       "      <td>-1.248116</td>\n",
       "      <td>1.207277</td>\n",
       "      <td>0.089844</td>\n",
       "      <td>0.372565</td>\n",
       "      <td>-0.028823</td>\n",
       "      <td>1.136714</td>\n",
       "      <td>0.187607</td>\n",
       "      <td>-0.723308</td>\n",
       "      <td>-0.379268</td>\n",
       "      <td>-1.003256</td>\n",
       "      <td>0.079112</td>\n",
       "      <td>0.689177</td>\n",
       "      <td>-0.441237</td>\n",
       "      <td>-0.110123</td>\n",
       "      <td>1.413108</td>\n",
       "      <td>-0.217614</td>\n",
       "      <td>1.158973</td>\n",
       "      <td>-0.052406</td>\n",
       "      <td>0.562646</td>\n",
       "    </tr>\n",
       "    <tr>\n",
       "      <th>2046</th>\n",
       "      <td>0</td>\n",
       "      <td>-0.132605</td>\n",
       "      <td>0.0</td>\n",
       "      <td>1.000000</td>\n",
       "      <td>0.976768</td>\n",
       "      <td>-0.466422</td>\n",
       "      <td>0.991369</td>\n",
       "      <td>-0.616825</td>\n",
       "      <td>0.513235</td>\n",
       "      <td>-0.294886</td>\n",
       "      <td>0.527506</td>\n",
       "      <td>-0.567463</td>\n",
       "      <td>1.280175</td>\n",
       "      <td>-0.235784</td>\n",
       "      <td>1.263284</td>\n",
       "      <td>-0.610973</td>\n",
       "      <td>1.847555</td>\n",
       "      <td>0.779121</td>\n",
       "      <td>1.818305</td>\n",
       "      <td>0.787117</td>\n",
       "      <td>1.130797</td>\n",
       "      <td>0.639119</td>\n",
       "      <td>0.891912</td>\n",
       "      <td>0.258639</td>\n",
       "      <td>0.589192</td>\n",
       "      <td>-0.320970</td>\n",
       "      <td>0.838001</td>\n",
       "      <td>0.749771</td>\n",
       "      <td>-0.934530</td>\n",
       "      <td>1.207277</td>\n",
       "      <td>0.822784</td>\n",
       "      <td>0.372565</td>\n",
       "      <td>-0.773417</td>\n",
       "      <td>0.502934</td>\n",
       "      <td>-0.643226</td>\n",
       "      <td>-0.723308</td>\n",
       "      <td>-0.379268</td>\n",
       "      <td>-0.545889</td>\n",
       "      <td>0.955000</td>\n",
       "      <td>2.021430</td>\n",
       "      <td>0.689204</td>\n",
       "      <td>0.468491</td>\n",
       "      <td>1.321993</td>\n",
       "      <td>1.104013</td>\n",
       "      <td>0.870856</td>\n",
       "      <td>0.411763</td>\n",
       "      <td>0.685650</td>\n",
       "    </tr>\n",
       "  </tbody>\n",
       "</table>\n",
       "</div>"
      ],
      "text/plain": [
       "      sex  interview_age  sestot  mot_edscale  acpt01_auditory_t1  \\\n",
       "1010    0       0.677291     0.0     0.666667            0.719724   \n",
       "3001    0       0.633513     0.0     1.000000            0.462680   \n",
       "3002    0       3.260203     0.0     1.000000           -0.308453   \n",
       "3026    1       2.866199     0.0     0.666667            0.462680   \n",
       "2046    0      -0.132605     0.0     1.000000            0.976768   \n",
       "\n",
       "      acpt01_auditory_t3  acpt01_auditory_t4  acpt01_auditory_t5  \\\n",
       "1010           -0.466422            0.747283           -0.379579   \n",
       "3001           -0.466422            0.503197           -0.356620   \n",
       "3002           -0.466422           -0.290082           -0.149987   \n",
       "3026           -0.466422            0.442176           -0.777539   \n",
       "2046           -0.466422            0.991369           -0.616825   \n",
       "\n",
       "      acpt01_auditory_t6  acpt01_auditory_t8  acpt01_auditory_t9  \\\n",
       "1010            0.513235           -0.294886            0.527506   \n",
       "3001            0.513235           -0.294886            0.527506   \n",
       "3002            0.078528           -0.003757            0.062060   \n",
       "3026            0.513235           -0.294886            0.527506   \n",
       "2046            0.513235           -0.294886            0.527506   \n",
       "\n",
       "      acpt01_auditory_t10  acpt01_auditory_t11  acpt01_auditory_t13  \\\n",
       "1010             0.428788             1.280175            -0.481063   \n",
       "3001            -0.596201             1.280175            -0.358424   \n",
       "3002            -0.069337            -0.652074            -0.358424   \n",
       "3026            -0.471670            -0.057536            -0.358424   \n",
       "2046            -0.567463             1.280175            -0.235784   \n",
       "\n",
       "      acpt01_auditory_t14  acpt01_auditory_t15  \\\n",
       "1010             1.263284            -0.459052   \n",
       "3001             1.263284            -0.450115   \n",
       "3002            -0.586394            -0.083716   \n",
       "3026            -0.021215            -0.208828   \n",
       "2046             1.263284            -0.610973   \n",
       "\n",
       "      cogcomp01_nih_fluidcogcomp_unadjusted  \\\n",
       "1010                               1.985641   \n",
       "3001                               0.328610   \n",
       "3002                               0.190524   \n",
       "3026                               0.604782   \n",
       "2046                               1.847555   \n",
       "\n",
       "      cogcomp01_nih_crycogcomp_unadjusted  dccs01_nih_dccs_ageadjusted  \\\n",
       "1010                             0.680216                     2.225363   \n",
       "3001                             0.779121                     0.190070   \n",
       "3002                             1.372555                    -0.471400   \n",
       "3026                            -0.012124                     0.088305   \n",
       "2046                             0.779121                     1.818305   \n",
       "\n",
       "      deldisk01_sv_6mo_40000  deldisk01_sv_3yr_40000  deldisk01_sv_1mo_40000  \\\n",
       "1010                0.787117                1.218434                0.639119   \n",
       "3001                0.787117                1.393707                0.639119   \n",
       "3002                0.787117               -1.323033                0.639119   \n",
       "3026                0.787117               -1.323033                0.639119   \n",
       "2046                0.787117                1.130797                0.639119   \n",
       "\n",
       "      deldisk01_sv_5yr_40000  deldisk01_sv_10yr_40000  deldisk01_sv_1yr_40000  \\\n",
       "1010                1.241682                 1.247383                1.109067   \n",
       "3001                1.591451                 1.517041                1.109067   \n",
       "3002               -1.119263                -0.909877                1.109067   \n",
       "3026               -1.119263                -0.909877               -1.576955   \n",
       "2046                0.891912                 0.258639                0.589192   \n",
       "\n",
       "      deldisk01_auc_200  deldisk01_auc_40000  er4001_er40_c_cr  \\\n",
       "1010          -0.097624             1.355674         -0.160525   \n",
       "3001           2.736771             1.614511          1.356636   \n",
       "3002          -0.406130            -0.801296          0.749771   \n",
       "3026          -0.816400            -1.194626          1.053204   \n",
       "2046          -0.320970             0.838001          0.749771   \n",
       "\n",
       "      er4001_er40_c_rtcr  er4001_er40_c_ang  er4001_er40_c_fear  \\\n",
       "1010           -0.455035          -0.434196            0.089844   \n",
       "3001           -0.693871           1.207277            0.822784   \n",
       "3002           -0.589950          -0.434196            0.822784   \n",
       "3026           -1.248116           1.207277            0.089844   \n",
       "2046           -0.934530           1.207277            0.822784   \n",
       "\n",
       "      er4001_er40_c_hap  er4001_er40_c_noe  er4001_er40_c_sad  \\\n",
       "1010           0.372565          -0.028823          -0.130845   \n",
       "3001           0.372565           0.715771           0.502934   \n",
       "3002           0.372565           0.715771           0.502934   \n",
       "3026           0.372565          -0.028823           1.136714   \n",
       "2046           0.372565          -0.773417           0.502934   \n",
       "\n",
       "      er4001_er40_c_fpa  er4001_er40_c_fpf  er4001_er40_c_fph  \\\n",
       "1010           1.018440          -0.100460           0.498143   \n",
       "3001          -0.643226          -0.723308          -0.379268   \n",
       "3002          -0.643226           0.522389          -0.379268   \n",
       "3026           0.187607          -0.723308          -0.379268   \n",
       "2046          -0.643226          -0.723308          -0.379268   \n",
       "\n",
       "      er4001_er40_c_fpn  er4001_er40_c_fps  flanker01_nih_flanker_ageadjusted  \\\n",
       "1010          -0.088523          -0.796775                           1.839759   \n",
       "3001          -0.545889          -0.796775                           0.810291   \n",
       "3002          -0.545889          -0.796775                           0.749734   \n",
       "3026          -1.003256           0.079112                           0.689177   \n",
       "2046          -0.545889           0.955000                           2.021430   \n",
       "\n",
       "      lswmt01_tbx_ls  orrt01_read_acss  pcps01_nih_patterncomp_ageadjusted  \\\n",
       "1010        1.537035          0.709581                            1.185320   \n",
       "3001       -0.158626          0.998888                            1.185320   \n",
       "3002        0.123984          0.902453                            0.638630   \n",
       "3026       -0.441237         -0.110123                            1.413108   \n",
       "2046        0.689204          0.468491                            1.321993   \n",
       "\n",
       "      tpvt01_tpvt_acss  wasi201_vocab_totalrawscore  \\\n",
       "1010          0.299544                     0.438681   \n",
       "3001          0.299544                     0.294623   \n",
       "3002          0.989089                     0.870856   \n",
       "3026         -0.217614                     1.158973   \n",
       "2046          1.104013                     0.870856   \n",
       "\n",
       "      wasi201_matrix_totalrawscore  wasi201_iqscores_full2iq  \n",
       "1010                      1.108016                  0.993161  \n",
       "3001                      1.108016                  0.685650  \n",
       "3002                      0.179678                  0.439642  \n",
       "3026                     -0.052406                  0.562646  \n",
       "2046                      0.411763                  0.685650  "
      ]
     },
     "execution_count": 62,
     "metadata": {},
     "output_type": "execute_result"
    }
   ],
   "source": [
    "cog_data_z.head()"
   ]
  },
  {
   "cell_type": "markdown",
   "id": "fb1450b8-5bc9-4e95-8cae-868fa7b01e0d",
   "metadata": {},
   "source": [
    "'In good health': 0, \n",
    "\n",
    "'Affective psychosis': 1, \n",
    "\n",
    "'Non-affective psychosis': 2"
   ]
  },
  {
   "cell_type": "markdown",
   "id": "af577677-588a-4347-a750-499b0e02a686",
   "metadata": {},
   "source": [
    "# PCA"
   ]
  },
  {
   "cell_type": "markdown",
   "id": "22a64a71-b44f-4212-ab48-94e5231ddda0",
   "metadata": {},
   "source": [
    "### cognitive features"
   ]
  },
  {
   "cell_type": "code",
   "execution_count": 6,
   "id": "7c1cbd90-38c1-426c-bfa7-c921f06a1ba6",
   "metadata": {},
   "outputs": [],
   "source": [
    "pca = PCA()\n",
    "pca.fit_transform(cog_data_z)\n",
    "components = pca.components_\n",
    "cog_data_z_pca = pca.transform(cog_data_z) # project the original data into the PCA space"
   ]
  },
  {
   "cell_type": "code",
   "execution_count": 7,
   "id": "9d27fe68-9bde-4a19-baab-dbbf51661107",
   "metadata": {},
   "outputs": [
    {
     "data": {
      "text/plain": [
       "26"
      ]
     },
     "execution_count": 7,
     "metadata": {},
     "output_type": "execute_result"
    }
   ],
   "source": [
    "var = pca.explained_variance_ratio_\n",
    "cumsum = np.cumsum(var)\n",
    "np.argmax(cumsum > 0.95)"
   ]
  },
  {
   "cell_type": "code",
   "execution_count": 8,
   "id": "057d7bbd-35cf-4b89-9e59-c1f6eb5c1328",
   "metadata": {},
   "outputs": [
    {
     "name": "stdout",
     "output_type": "stream",
     "text": [
      "0.6059566375576266\n"
     ]
    },
    {
     "data": {
      "text/plain": [
       "array([0., 0., 0., 0., 0., 0., 1., 1., 1., 1., 1., 1., 1., 1., 1., 1., 1.,\n",
       "       1., 1., 1., 1., 1., 1., 1., 1., 1., 1., 1., 1., 1., 1., 1., 1., 1.,\n",
       "       1., 1., 1., 1., 1., 1., 1., 1., 1., 1., 1., 1., 1.])"
      ]
     },
     "execution_count": 8,
     "metadata": {},
     "output_type": "execute_result"
    }
   ],
   "source": [
    "var_p = ana.permutation_test(cog_data_z, 5000)\n",
    "var_p_mean = np.mean(var_p, axis=0)\n",
    "t,p = sci.stats.ttest_1samp(var_p, var,alternative='less')\n",
    "index_significant = np.where(p[:-1] != p[1:])[0][0]\n",
    "print(sum(var[:index_significant+1]))\n",
    "p"
   ]
  },
  {
   "cell_type": "code",
   "execution_count": 9,
   "id": "d090ec41-b8ce-4989-b4a9-7eafcd98b989",
   "metadata": {},
   "outputs": [
    {
     "name": "stdout",
     "output_type": "stream",
     "text": [
      "[0.28147487 0.12261563 0.06582914 0.05286094 0.04327548 0.03990057\n",
      " 0.03505564 0.03022927 0.02859402 0.02511094]\n",
      "[0.04983601 0.04657112 0.04414614 0.04210581 0.04030703 0.03866666\n",
      " 0.03715146 0.03570699 0.03435251 0.03306229]\n"
     ]
    }
   ],
   "source": [
    "print(var[:10])\n",
    "print(var_p_mean[:10])"
   ]
  },
  {
   "cell_type": "code",
   "execution_count": 10,
   "id": "51320cfc-d8e9-4999-a71a-92fecbd74f9f",
   "metadata": {},
   "outputs": [
    {
     "data": {
      "image/png": "[encoded data removed]",
      "text/plain": [
       "<Figure size 252x144 with 1 Axes>"
      ]
     },
     "metadata": {
      "needs_background": "light"
     },
     "output_type": "display_data"
    }
   ],
   "source": [
    "pl.plot_PC(cog_data_z, var, var_p_mean, index_significant)\n",
    "plt.savefig('fig/PCs_cog.svg', dpi=500, bbox_inches='tight')"
   ]
  },
  {
   "cell_type": "code",
   "execution_count": 11,
   "id": "041db69c-4d59-49ec-b085-def9845249af",
   "metadata": {},
   "outputs": [
    {
     "data": {
      "image/png": "[encoded data removed]",
      "text/plain": [
       "<Figure size 144x108 with 1 Axes>"
      ]
     },
     "metadata": {
      "needs_background": "light"
     },
     "output_type": "display_data"
    }
   ],
   "source": [
    "pl.plot_data_2D(cog_data_z_pca)\n",
    "plt.savefig('fig/cog_data2D.svg', dpi=500, bbox_inches='tight')"
   ]
  },
  {
   "cell_type": "code",
   "execution_count": 56,
   "id": "88b1aea4-2709-45fe-adda-4617ef73d126",
   "metadata": {},
   "outputs": [
    {
     "data": {
      "image/png": "[encoded data removed]",
      "text/plain": [
       "<Figure size 144x216 with 1 Axes>"
      ]
     },
     "metadata": {},
     "output_type": "display_data"
    }
   ],
   "source": [
    "pl.plot_data_3D(cog_data_z_pca)\n",
    "plt.savefig('fig/cog_data3D.svg', dpi=500, bbox_inches='tight')"
   ]
  },
  {
   "cell_type": "code",
   "execution_count": 13,
   "id": "a1406b4f-f25c-4826-840c-b8e5dbe3f2c7",
   "metadata": {},
   "outputs": [],
   "source": [
    "cog_components = ana.get_feature_importance(cog_data_z, var, components)"
   ]
  },
  {
   "cell_type": "code",
   "execution_count": 14,
   "id": "9c960844-4488-4eb1-b322-1fc4c4f7f4a7",
   "metadata": {},
   "outputs": [
    {
     "data": {
      "text/plain": [
       "Index(['cogcomp01_nih_fluidcogcomp_unadjusted', 'acpt01_auditory_t11',\n",
       "       'cogcomp01_nih_crycogcomp_unadjusted', 'wasi201_iqscores_full2iq',\n",
       "       'acpt01_auditory_t14', 'orrt01_read_acss', 'tpvt01_tpvt_acss',\n",
       "       'lswmt01_tbx_ls', 'acpt01_auditory_t9', 'acpt01_auditory_t6'],\n",
       "      dtype='object')"
      ]
     },
     "execution_count": 14,
     "metadata": {},
     "output_type": "execute_result"
    }
   ],
   "source": [
    "ana.get_highest_contr_feat(cog_components, 'PC1')"
   ]
  },
  {
   "cell_type": "code",
   "execution_count": 15,
   "id": "d6b12e15-84d0-42bd-902f-0406c5723985",
   "metadata": {},
   "outputs": [
    {
     "data": {
      "text/plain": [
       "Index(['deldisk01_auc_40000', 'deldisk01_sv_5yr_40000',\n",
       "       'deldisk01_sv_10yr_40000', 'deldisk01_auc_200',\n",
       "       'deldisk01_sv_3yr_40000', 'deldisk01_sv_1yr_40000',\n",
       "       'deldisk01_sv_6mo_40000', 'deldisk01_sv_1mo_40000',\n",
       "       'acpt01_auditory_t5', 'acpt01_auditory_t8'],\n",
       "      dtype='object')"
      ]
     },
     "execution_count": 15,
     "metadata": {},
     "output_type": "execute_result"
    }
   ],
   "source": [
    "ana.get_highest_contr_feat(cog_components, 'PC2')"
   ]
  },
  {
   "cell_type": "code",
   "execution_count": 16,
   "id": "9a07c2fb-72d8-493f-803e-f36298826268",
   "metadata": {},
   "outputs": [
    {
     "data": {
      "text/plain": [
       "Index(['er4001_er40_c_cr', 'er4001_er40_c_noe', 'er4001_er40_c_fph',\n",
       "       'er4001_er40_c_fpf', 'er4001_er40_c_fpa', 'er4001_er40_c_sad',\n",
       "       'er4001_er40_c_rtcr', 'orrt01_read_acss',\n",
       "       'cogcomp01_nih_crycogcomp_unadjusted', 'wasi201_vocab_totalrawscore'],\n",
       "      dtype='object')"
      ]
     },
     "execution_count": 16,
     "metadata": {},
     "output_type": "execute_result"
    }
   ],
   "source": [
    "ana.get_highest_contr_feat(cog_components, 'PC3')"
   ]
  },
  {
   "cell_type": "code",
   "execution_count": 59,
   "id": "41c0ab07-b2bb-490b-951a-557944d97bb6",
   "metadata": {},
   "outputs": [
    {
     "data": {
      "image/png": "[encoded data removed]",
      "text/plain": [
       "<Figure size 129.6x504 with 2 Axes>"
      ]
     },
     "metadata": {},
     "output_type": "display_data"
    }
   ],
   "source": [
    "fig = plt.figure(figsize=(1.8,7))\n",
    "#sns.set(font_scale=0.7)\n",
    "im = sns.heatmap(cog_components[['PC1', 'PC2', 'PC3', 'PC4', 'PC5', 'PC6']], \n",
    "                 cmap='OrRd', cbar_kws={\"shrink\": 0.2}, annot_kws={\"fontsize\":2},\n",
    "                 linewidths=1,linecolor=\"lightgray\", #annot=True,  fmt=\".0\",\n",
    "                 vmin=0, vmax=0.07)\n",
    "plt.savefig('fig/PCs_cog_loadings.svg', dpi=500, bbox_inches='tight')"
   ]
  },
  {
   "cell_type": "code",
   "execution_count": 57,
   "id": "6509b760-7322-4218-8618-66d7025fd562",
   "metadata": {},
   "outputs": [],
   "source": [
    "sns.set(font_scale=0.7)\n",
    "#sns.set_style(style='white') "
   ]
  },
  {
   "cell_type": "markdown",
   "id": "3c46a090-f9f2-4496-a0fa-36418e22dda3",
   "metadata": {},
   "source": [
    "### brain features"
   ]
  },
  {
   "cell_type": "code",
   "execution_count": 24,
   "id": "ce8e3453-c699-4be1-83ff-2d3e804be081",
   "metadata": {},
   "outputs": [],
   "source": [
    "pca = PCA()\n",
    "pca.fit(brain_data_z)\n",
    "components_brain = pca.components_\n",
    "brain_data_z_pca = pca.transform(brain_data_z) # project the original data into the PCA space"
   ]
  },
  {
   "cell_type": "code",
   "execution_count": 25,
   "id": "87861dfe-1cd1-47f9-ade1-e704d1ad2852",
   "metadata": {},
   "outputs": [
    {
     "data": {
      "text/plain": [
       "20"
      ]
     },
     "execution_count": 25,
     "metadata": {},
     "output_type": "execute_result"
    }
   ],
   "source": [
    "var_brain = pca.explained_variance_ratio_\n",
    "cumsum_brain = np.cumsum(var_brain)\n",
    "np.argmax(cumsum_brain >= 0.95)"
   ]
  },
  {
   "cell_type": "code",
   "execution_count": 26,
   "id": "7250290a-33a8-4b21-a155-02711ca0ba43",
   "metadata": {},
   "outputs": [
    {
     "name": "stdout",
     "output_type": "stream",
     "text": [
      "0.5301745046900608\n"
     ]
    },
    {
     "data": {
      "text/plain": [
       "array([0.        , 0.        , 0.        , 0.        , 0.97315714,\n",
       "       1.        , 1.        , 1.        , 1.        , 1.        ,\n",
       "       1.        , 1.        , 1.        , 1.        , 1.        ,\n",
       "       1.        , 1.        , 1.        , 1.        , 1.        ,\n",
       "       1.        , 1.        , 1.        , 1.        , 1.        ,\n",
       "       1.        , 1.        , 1.        , 1.        , 1.        ])"
      ]
     },
     "execution_count": 26,
     "metadata": {},
     "output_type": "execute_result"
    }
   ],
   "source": [
    "var_p_brain = ana.permutation_test(brain_data_z, 5000)\n",
    "var_p_mean_brain = np.mean(var_p_brain, axis=0)\n",
    "t,p = sci.stats.ttest_1samp(var_p_brain, var_brain, alternative='less')\n",
    "index_significant_brain = np.where(p[:-1] != p[1:])[0][0]\n",
    "print(sum(var_brain[:index_significant_brain+1]))\n",
    "p"
   ]
  },
  {
   "cell_type": "code",
   "execution_count": 53,
   "id": "7bd0a688-60bc-4cbe-8cdc-1b689ef0f519",
   "metadata": {},
   "outputs": [
    {
     "name": "stdout",
     "output_type": "stream",
     "text": [
      "[0.25963305 0.10506733 0.09195499 0.07351914 0.05068802 0.04544159\n",
      " 0.04457548 0.03600985 0.03451074 0.02681867]\n",
      "[0.06424878 0.05964122 0.05622396 0.05333719 0.05073721 0.04835901\n",
      " 0.04616681 0.04410904 0.04218532 0.04034815]\n"
     ]
    }
   ],
   "source": [
    "print(var_brain[:10])\n",
    "print(var_p_mean_brain[:10])"
   ]
  },
  {
   "cell_type": "code",
   "execution_count": 104,
   "id": "718ef000-8108-4d03-810d-5e928fcf7b13",
   "metadata": {},
   "outputs": [
    {
     "data": {
      "image/png": "[encoded data removed]",
      "text/plain": [
       "<Figure size 252x144 with 1 Axes>"
      ]
     },
     "metadata": {
      "needs_background": "light"
     },
     "output_type": "display_data"
    }
   ],
   "source": [
    "pl.plot_PC(brain_data_z, var_brain, var_p_mean_brain, index_significant_brain)\n",
    "#plt.savefig('fig/PC_cog.svg', dpi=500, bbox_inches='tight')"
   ]
  },
  {
   "cell_type": "code",
   "execution_count": 54,
   "id": "7bbc238a-37fa-4e35-88d0-2f4794c299ac",
   "metadata": {},
   "outputs": [
    {
     "data": {
      "image/png": "[encoded data removed]",
      "text/plain": [
       "<Figure size 144x108 with 1 Axes>"
      ]
     },
     "metadata": {
      "needs_background": "light"
     },
     "output_type": "display_data"
    }
   ],
   "source": [
    "pl.plot_data_2D(brain_data_z_pca)"
   ]
  },
  {
   "cell_type": "code",
   "execution_count": 55,
   "id": "a891a6c5-6a5b-487b-b8b9-e13ddbc7c5d3",
   "metadata": {},
   "outputs": [],
   "source": [
    "brain_components = ana.get_feature_importance(brain_data_z, var_brain, components_brain)"
   ]
  },
  {
   "cell_type": "code",
   "execution_count": 56,
   "id": "77282f40-a17f-42ef-b4d7-edf1cc602049",
   "metadata": {},
   "outputs": [
    {
     "data": {
      "text/plain": [
       "Index(['3', '4', '5', '29', '16', '26', '8', '1', '17', '30'], dtype='object')"
      ]
     },
     "execution_count": 56,
     "metadata": {},
     "output_type": "execute_result"
    }
   ],
   "source": [
    "ana.get_highest_contr_feat(brain_components, 'PC1')"
   ]
  },
  {
   "cell_type": "code",
   "execution_count": 57,
   "id": "3f0c769d-12e1-4db7-8b2d-5295830152c5",
   "metadata": {},
   "outputs": [
    {
     "data": {
      "text/plain": [
       "Index(['12', '10', '7', '1', '14', '13', '5', '26', '18', '25'], dtype='object')"
      ]
     },
     "execution_count": 57,
     "metadata": {},
     "output_type": "execute_result"
    }
   ],
   "source": [
    "ana.get_highest_contr_feat(brain_components, 'PC2')"
   ]
  },
  {
   "cell_type": "code",
   "execution_count": 58,
   "id": "d5829fb3-19ff-442f-ba18-8aea6eda93b5",
   "metadata": {},
   "outputs": [
    {
     "data": {
      "image/png": "[encoded data removed]",
      "text/plain": [
       "<Figure size 72x468 with 2 Axes>"
      ]
     },
     "metadata": {
      "needs_background": "light"
     },
     "output_type": "display_data"
    }
   ],
   "source": [
    "fig = plt.figure(figsize=(1.,6.5))\n",
    "\n",
    "im = sns.heatmap(brain_components[['PC1', 'PC2', 'PC3', 'PC4']], \n",
    "                 cmap='OrRd', cbar_kws={\"shrink\": 0.3}, linewidths=1,linecolor=\"lightgray\", #annot=True,  fmt=\".0\",\n",
    "                 vmin=0, vmax=0.07)\n",
    "im.set_yticklabels(im.get_yticklabels(), rotation=0)\n",
    "im.set_xticklabels(im.get_xticklabels(), rotation=90)\n",
    "plt.show()"
   ]
  },
  {
   "cell_type": "markdown",
   "id": "5c33320a-69f5-4989-a091-f8305c1f503c",
   "metadata": {},
   "source": [
    "### combined features "
   ]
  },
  {
   "cell_type": "code",
   "execution_count": 59,
   "id": "b4d84c15-df35-43e1-a4ed-16ac3a82793c",
   "metadata": {},
   "outputs": [],
   "source": [
    "data_z_all = cog_data_z.join(brain_data_z)"
   ]
  },
  {
   "cell_type": "code",
   "execution_count": 60,
   "id": "8fa55e5b-3d00-4715-b4a3-4d6673e9d825",
   "metadata": {},
   "outputs": [],
   "source": [
    "pca = PCA()\n",
    "pca.fit_transform(data_z_all)\n",
    "components_all = pca.components_\n",
    "data_z_pca = pca.transform(data_z_all) # project the original data into the PCA space"
   ]
  },
  {
   "cell_type": "code",
   "execution_count": 61,
   "id": "19327e90-fe50-429f-acb9-a398fac27e8d",
   "metadata": {},
   "outputs": [
    {
     "data": {
      "text/plain": [
       "42"
      ]
     },
     "execution_count": 61,
     "metadata": {},
     "output_type": "execute_result"
    }
   ],
   "source": [
    "var_all = pca.explained_variance_ratio_\n",
    "cumsum = np.cumsum(var_all)\n",
    "np.argmax(cumsum >= 0.95)"
   ]
  },
  {
   "cell_type": "code",
   "execution_count": 62,
   "id": "94f0a54c-a058-4ced-9286-7dcd54343e2b",
   "metadata": {},
   "outputs": [
    {
     "name": "stdout",
     "output_type": "stream",
     "text": [
      "0.5753982114357719\n"
     ]
    },
    {
     "data": {
      "text/plain": [
       "array([0., 0., 0., 0., 0., 0., 0., 0., 0., 1., 1., 1., 1., 1., 1., 1., 1.,\n",
       "       1., 1., 1., 1., 1., 1., 1., 1., 1., 1., 1., 1., 1., 1., 1., 1., 1.,\n",
       "       1., 1., 1., 1., 1., 1., 1., 1., 1., 1., 1., 1., 1., 1., 1., 1., 1.,\n",
       "       1., 1., 1., 1., 1., 1., 1., 1., 1., 1., 1., 1., 1., 1., 1., 1., 1.,\n",
       "       1., 1., 1., 1., 1., 1., 1., 1., 1.])"
      ]
     },
     "execution_count": 62,
     "metadata": {},
     "output_type": "execute_result"
    }
   ],
   "source": [
    "var_p_all = ana.permutation_test(data_z_all, 5000)\n",
    "var_p_mean_all = np.mean(var_p_all, axis=0)\n",
    "t,p = sci.stats.ttest_1samp(var_p_all, var_all, alternative='less')\n",
    "index_significant_all = np.where(p[:-1] != p[1:])[0][0]\n",
    "print(sum(var_all[:index_significant_all+1]))\n",
    "p"
   ]
  },
  {
   "cell_type": "code",
   "execution_count": 63,
   "id": "85a71ab5-f84a-489b-8108-143a3f6a3664",
   "metadata": {},
   "outputs": [
    {
     "name": "stdout",
     "output_type": "stream",
     "text": [
      "[0.19880619 0.09592147 0.0678582  0.04195749 0.04005064 0.03800533\n",
      " 0.03371629 0.03196654 0.02711608 0.02565579]\n",
      "[0.03656786 0.03450841 0.03297913 0.03169434 0.03054197 0.02950695\n",
      " 0.02853316 0.02762876 0.02676459 0.02594635]\n"
     ]
    }
   ],
   "source": [
    "print(var_all[:10])\n",
    "print(var_p_mean_all[:10])"
   ]
  },
  {
   "cell_type": "code",
   "execution_count": 64,
   "id": "7b890dcb-09aa-4f80-9f9a-d190e1a0dff0",
   "metadata": {},
   "outputs": [
    {
     "data": {
      "image/png": "[encoded data removed]",
      "text/plain": [
       "<Figure size 252x144 with 1 Axes>"
      ]
     },
     "metadata": {
      "needs_background": "light"
     },
     "output_type": "display_data"
    }
   ],
   "source": [
    "pl.plot_PC(data_z_all, var_all, var_p_mean_all, index_significant_all)\n",
    "#plt.savefig('fig/PC_cog.svg', dpi=500, bbox_inches='tight')"
   ]
  },
  {
   "cell_type": "code",
   "execution_count": 65,
   "id": "76341ea6-1a9d-4e37-a4a3-8322da6886c0",
   "metadata": {},
   "outputs": [
    {
     "data": {
      "image/png": "[encoded data removed]",
      "text/plain": [
       "<Figure size 144x108 with 1 Axes>"
      ]
     },
     "metadata": {
      "needs_background": "light"
     },
     "output_type": "display_data"
    }
   ],
   "source": [
    "pl.plot_data_2D(data_z_pca)"
   ]
  },
  {
   "cell_type": "code",
   "execution_count": 66,
   "id": "a7c53f3d-fa0e-4814-8585-4cdc41d083bc",
   "metadata": {},
   "outputs": [
    {
     "data": {
      "image/png": "[encoded data removed]",
      "text/plain": [
       "<Figure size 144x216 with 1 Axes>"
      ]
     },
     "metadata": {
      "needs_background": "light"
     },
     "output_type": "display_data"
    }
   ],
   "source": [
    "pl.plot_data_3D(cog_data_z_pca)"
   ]
  },
  {
   "cell_type": "code",
   "execution_count": 67,
   "id": "5ce5d284-4bc1-4ae2-9972-819e0458c13b",
   "metadata": {},
   "outputs": [],
   "source": [
    "all_components = ana.get_feature_importance(data_z_all, var_all, components_all)"
   ]
  },
  {
   "cell_type": "code",
   "execution_count": 68,
   "id": "4d3c0a32-210e-4158-8ce6-6239302c3443",
   "metadata": {},
   "outputs": [
    {
     "data": {
      "text/plain": [
       "Index(['cogcomp01_nih_crycogcomp_unadjusted',\n",
       "       'cogcomp01_nih_fluidcogcomp_unadjusted', 'acpt01_auditory_t11',\n",
       "       'wasi201_iqscores_full2iq', 'tpvt01_tpvt_acss', 'acpt01_auditory_t14',\n",
       "       'orrt01_read_acss', 'lswmt01_tbx_ls', 'wasi201_matrix_totalrawscore',\n",
       "       'acpt01_auditory_t9'],\n",
       "      dtype='object')"
      ]
     },
     "execution_count": 68,
     "metadata": {},
     "output_type": "execute_result"
    }
   ],
   "source": [
    "ana.get_highest_contr_feat(all_components, 'PC1')"
   ]
  },
  {
   "cell_type": "code",
   "execution_count": 69,
   "id": "5dd0e315-5991-48d3-8f90-6db688600781",
   "metadata": {},
   "outputs": [
    {
     "data": {
      "text/plain": [
       "Index(['5', '4', '1', '3', '7', '8', 'deldisk01_auc_200', '22',\n",
       "       'acpt01_auditory_t5', '29'],\n",
       "      dtype='object')"
      ]
     },
     "execution_count": 69,
     "metadata": {},
     "output_type": "execute_result"
    }
   ],
   "source": [
    "ana.get_highest_contr_feat(all_components, 'PC2')"
   ]
  },
  {
   "cell_type": "code",
   "execution_count": 70,
   "id": "94aadec0-a1c0-415c-a1a8-df2e06b9a709",
   "metadata": {},
   "outputs": [
    {
     "data": {
      "text/plain": [
       "Index(['deldisk01_auc_40000', 'deldisk01_sv_10yr_40000',\n",
       "       'deldisk01_sv_5yr_40000', 'deldisk01_auc_200', 'deldisk01_sv_3yr_40000',\n",
       "       'deldisk01_sv_6mo_40000', 'deldisk01_sv_1yr_40000',\n",
       "       'deldisk01_sv_1mo_40000', '3', '8'],\n",
       "      dtype='object')"
      ]
     },
     "execution_count": 70,
     "metadata": {},
     "output_type": "execute_result"
    }
   ],
   "source": [
    "ana.get_highest_contr_feat(all_components, 'PC3')"
   ]
  },
  {
   "cell_type": "code",
   "execution_count": 71,
   "id": "f90efea1-4088-44cf-8619-4bb69111a715",
   "metadata": {},
   "outputs": [
    {
     "data": {
      "text/plain": [
       "Index(['12', '10', '2', '13', '21', '9', 'interview_age', '4', '26', '1'], dtype='object')"
      ]
     },
     "execution_count": 71,
     "metadata": {},
     "output_type": "execute_result"
    }
   ],
   "source": [
    "ana.get_highest_contr_feat(all_components, 'PC4')"
   ]
  },
  {
   "cell_type": "code",
   "execution_count": 72,
   "id": "718868f0-1baf-4fe7-ad9e-5a88c6d8c07c",
   "metadata": {},
   "outputs": [
    {
     "data": {
      "image/png": "[encoded data removed]",
      "text/plain": [
       "<Figure size 180x1116 with 2 Axes>"
      ]
     },
     "metadata": {
      "needs_background": "light"
     },
     "output_type": "display_data"
    }
   ],
   "source": [
    "fig = plt.figure(figsize=(2.5,15.5))\n",
    "\n",
    "im = sns.heatmap(all_components[['PC1', 'PC2', 'PC3', 'PC4', 'PC5', 'PC6', 'PC7', 'PC8', 'PC9']], \n",
    "                 cmap='OrRd', cbar_kws={\"shrink\": 0.2}, linewidths=1,linecolor=\"lightgray\", #annot=True,  fmt=\".0\",\n",
    "                 vmin=0, vmax=0.07)"
   ]
  },
  {
   "cell_type": "code",
   "execution_count": null,
   "id": "4cb72ef0-c13b-4a30-9cb5-f752b4c322fd",
   "metadata": {},
   "outputs": [],
   "source": []
  },
  {
   "cell_type": "code",
   "execution_count": null,
   "id": "23c80994-439d-47ab-bf28-ba763c80660c",
   "metadata": {},
   "outputs": [],
   "source": []
  },
  {
   "cell_type": "code",
   "execution_count": null,
   "id": "45da9595-28b0-43fe-bda6-c86d8d8c799f",
   "metadata": {},
   "outputs": [],
   "source": []
  },
  {
   "cell_type": "code",
   "execution_count": null,
   "id": "5221ae96-445b-46a5-856d-3e52199c58a5",
   "metadata": {},
   "outputs": [],
   "source": []
  },
  {
   "cell_type": "code",
   "execution_count": null,
   "id": "089a6b1b-5278-47b7-83a0-1bfec7b049a2",
   "metadata": {},
   "outputs": [],
   "source": []
  },
  {
   "cell_type": "code",
   "execution_count": null,
   "id": "3694073c-d4f7-4d30-8a5b-d467673406f6",
   "metadata": {},
   "outputs": [],
   "source": []
  },
  {
   "cell_type": "code",
   "execution_count": null,
   "id": "10cc964e-3601-44c8-85e7-01e1dff59979",
   "metadata": {},
   "outputs": [],
   "source": []
  },
  {
   "cell_type": "code",
   "execution_count": null,
   "id": "0fa8e891-2e08-4b5c-8ec0-7aae8b8ef9cc",
   "metadata": {},
   "outputs": [],
   "source": []
  },
  {
   "cell_type": "code",
   "execution_count": null,
   "id": "78f0399d-72ff-45e0-bd11-3d345655420a",
   "metadata": {},
   "outputs": [],
   "source": []
  },
  {
   "cell_type": "code",
   "execution_count": null,
   "id": "53cd57d9-b1ec-4ff5-93c3-b13f7ccf9f44",
   "metadata": {},
   "outputs": [],
   "source": []
  },
  {
   "cell_type": "code",
   "execution_count": null,
   "id": "681c6ce3-5ada-410c-a53b-4b5422d4f0c5",
   "metadata": {},
   "outputs": [],
   "source": []
  },
  {
   "cell_type": "code",
   "execution_count": null,
   "id": "30fe7a40-0077-4578-a2a7-15c3377c2277",
   "metadata": {},
   "outputs": [],
   "source": []
  },
  {
   "cell_type": "code",
   "execution_count": null,
   "id": "4bd3e071-254d-4e19-be29-82912c845d3f",
   "metadata": {},
   "outputs": [],
   "source": []
  },
  {
   "cell_type": "code",
   "execution_count": null,
   "id": "44efbda0-7df1-4b83-9faa-a305f388fed1",
   "metadata": {},
   "outputs": [],
   "source": []
  },
  {
   "cell_type": "code",
   "execution_count": null,
   "id": "7d24d382-d1b9-47ab-b8ee-b1e11aa6ded3",
   "metadata": {},
   "outputs": [],
   "source": []
  },
  {
   "cell_type": "code",
   "execution_count": null,
   "id": "e9d744b1-5684-476f-b32b-0e421d071e6c",
   "metadata": {},
   "outputs": [],
   "source": []
  },
  {
   "cell_type": "code",
   "execution_count": null,
   "id": "73e078e0-9ad2-438d-91e7-67c8b4f481c0",
   "metadata": {},
   "outputs": [],
   "source": []
  },
  {
   "cell_type": "code",
   "execution_count": null,
   "id": "9590e11d-4106-4566-acf1-e0286048b531",
   "metadata": {},
   "outputs": [],
   "source": []
  },
  {
   "cell_type": "code",
   "execution_count": null,
   "id": "5324dd58-0ed0-438e-9385-c2a65d1ba456",
   "metadata": {},
   "outputs": [],
   "source": []
  },
  {
   "cell_type": "code",
   "execution_count": null,
   "id": "149d0d9b-cab0-4251-9829-fe4f84efda7f",
   "metadata": {},
   "outputs": [],
   "source": []
  }
 ],
 "metadata": {
  "kernelspec": {
   "display_name": "Python 3 (ipykernel)",
   "language": "python",
   "name": "python3"
  },
  "language_info": {
   "codemirror_mode": {
    "name": "ipython",
    "version": 3
   },
   "file_extension": ".py",
   "mimetype": "text/x-python",
   "name": "python",
   "nbconvert_exporter": "python",
   "pygments_lexer": "ipython3",
   "version": "3.9.7"
  }
 },
 "nbformat": 4,
 "nbformat_minor": 5
}
